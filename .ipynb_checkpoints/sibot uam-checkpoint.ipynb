{
 "cells": [
  {
   "cell_type": "code",
   "execution_count": 1,
   "metadata": {
    "collapsed": false
   },
   "outputs": [],
   "source": [
    "import urllib, re, json\n",
    "from urllib.parse import urlparse\n",
    "import urllib.request\n",
    "import pandas as pd\n",
    "import numpy as np\n",
    "\n",
    "#from pyquery import PyQuery\n",
    "from bs4 import BeautifulSoup\n",
    "try:\n",
    "    from http.cookiejar import CookieJar\n",
    "except ImportError:\n",
    "    from cookielib import CookieJar"
   ]
  },
  {
   "cell_type": "markdown",
   "metadata": {},
   "source": [
    "<h6>Web Scraping con python 3</h6>"
   ]
  },
  {
   "cell_type": "code",
   "execution_count": null,
   "metadata": {
    "collapsed": false
   },
   "outputs": [],
   "source": [
    "login_param = {'txtUsuario':'2123065423',\n",
    "         'txtContrasena':'Oswaldo948',\n",
    "         'btnAccesar':'Ingresar'}\n",
    "cj = CookieJar()\n",
    "opener = urllib.request.build_opener(urllib.request.HTTPCookieProcessor(cj))\n",
    "resp1 = opener.open('https://www.bolsadetrabajo.uam.mx/sesion.php', urllib.parse.urlencode(login_param).encode(\"utf-8\"))"
   ]
  },
  {
   "cell_type": "code",
   "execution_count": null,
   "metadata": {
    "collapsed": false
   },
   "outputs": [],
   "source": [
    "page_param = {'txtClave':'Oswaldo948',\n",
    "             'txtUsuario':'2123065423',\n",
    "             'x':'79',\n",
    "             'y':'24'}\n",
    "resp2 = opener.open('https://www.bolsadetrabajo.uam.mx/srcBuscaEmp.php',urllib.parse.urlencode(page_param).encode(\"utf-8\"))\n",
    "html_text = resp2.read()"
   ]
  },
  {
   "cell_type": "markdown",
   "metadata": {},
   "source": [
    "<h4>Funciones</h4>"
   ]
  },
  {
   "cell_type": "code",
   "execution_count": 2,
   "metadata": {
    "collapsed": false
   },
   "outputs": [],
   "source": [
    "def cleanStr(string):\n",
    "    return string.replace('\\t',' ').strip(' \\t\\n\\r').replace('\\n',' ').replace('\\r',' ').replace('•',' ')\n",
    "def quitarLatin(string):\n",
    "    string.replace('á','a').replace('é','e').replace('í','i').replace('ó','o').replace('ú','u').replace('ñ','n')\n",
    "def isfloat(x):\n",
    "    if x is None:\n",
    "        return None\n",
    "    return re.match(\"^\\d+(\\.\\d+)?\", x) is not None\n",
    "def quitarAlpha(num):\n",
    "    copy =  list(num)\n",
    "    num = [x for x in copy if x.isdigit()]\n",
    "    return int(''.join(num))\n",
    "def firstFloat(nreal):\n",
    "    copy =  nreal.split(' ')\n",
    "    num = [x for x in copy if isfloat(x)]\n",
    "    return num[0] if len(num)>0 else None\n",
    "    "
   ]
  },
  {
   "cell_type": "markdown",
   "metadata": {},
   "source": [
    "<h3>Carga de datos</h3>"
   ]
  },
  {
   "cell_type": "code",
   "execution_count": 3,
   "metadata": {
    "collapsed": false
   },
   "outputs": [],
   "source": [
    "with open('vacantes.json') as f:    \n",
    "    data = json.load(f)\n",
    "#vac = pd.DataFrame.from_dict(data, orient='columns')\n",
    "vac = pd.DataFrame.from_dict(data, orient='index')"
   ]
  },
  {
   "cell_type": "markdown",
   "metadata": {},
   "source": [
    "<h3>Renombrar columnas</h3>"
   ]
  },
  {
   "cell_type": "code",
   "execution_count": 4,
   "metadata": {
    "collapsed": false
   },
   "outputs": [
    {
     "data": {
      "text/plain": [
       "Index(['edad_minima', 'carrera', 'funcion', 'tipo_plaza', 'horario_entrada',\n",
       "       'rolar_turnos', 'estado_civil', 'edad_maxima', 'radicar_provincia',\n",
       "       'horario', 'fecha_registro', 'puesto', 'sexo', 'sueldo_maximo',\n",
       "       'empresa', 'sueldo_minimo', 'horario_salida', 'experiencia'],\n",
       "      dtype='object')"
      ]
     },
     "execution_count": 4,
     "metadata": {},
     "output_type": "execute_result"
    }
   ],
   "source": [
    "vac.columns = vac.columns.str.lower().str.strip().str.replace(' ','_')\n",
    "vac.columns = vac.columns.str.replace('á','a').str.replace('é','e').str.replace('í','i').str.replace('ó','o').str.replace('ú','u').str.replace('ñ','n')\n",
    "vac.rename(columns={'disponibilidad_para_radicar_en_provincia': 'radicar_provincia', \n",
    "                    'disponibilidad_para_rolar_turnos': 'rolar_turnos',\n",
    "                    'fecha_de_registro_de_la_vacante':'fecha_registro',\n",
    "                    'tipo_de_plaza':'tipo_plaza',\n",
    "                    'horario_de_salida':'horario_salida',\n",
    "                    'horario_de_entrada':'horario_entrada'}, inplace=True)\n",
    "vac.columns"
   ]
  },
  {
   "cell_type": "code",
   "execution_count": 5,
   "metadata": {
    "collapsed": false
   },
   "outputs": [
    {
     "data": {
      "text/plain": [
       "edad_minima          object\n",
       "carrera              object\n",
       "funcion              object\n",
       "tipo_plaza           object\n",
       "horario_entrada      object\n",
       "rolar_turnos         object\n",
       "estado_civil         object\n",
       "edad_maxima          object\n",
       "radicar_provincia    object\n",
       "horario              object\n",
       "fecha_registro       object\n",
       "puesto               object\n",
       "sexo                 object\n",
       "sueldo_maximo        object\n",
       "empresa              object\n",
       "sueldo_minimo        object\n",
       "horario_salida       object\n",
       "experiencia          object\n",
       "dtype: object"
      ]
     },
     "execution_count": 5,
     "metadata": {},
     "output_type": "execute_result"
    }
   ],
   "source": [
    "vac.dtypes"
   ]
  },
  {
   "cell_type": "markdown",
   "metadata": {},
   "source": [
    "<h3>Limpiar datos</h3>"
   ]
  },
  {
   "cell_type": "code",
   "execution_count": 6,
   "metadata": {
    "collapsed": false
   },
   "outputs": [
    {
     "data": {
      "text/plain": [
       "edad_minima                   int64\n",
       "carrera                      object\n",
       "funcion                      object\n",
       "tipo_plaza                   object\n",
       "horario_entrada              object\n",
       "rolar_turnos                 object\n",
       "estado_civil                 object\n",
       "edad_maxima                   int64\n",
       "radicar_provincia            object\n",
       "horario                      object\n",
       "fecha_registro       datetime64[ns]\n",
       "puesto                       object\n",
       "sexo                         object\n",
       "sueldo_maximo               float64\n",
       "empresa                      object\n",
       "sueldo_minimo               float64\n",
       "horario_salida               object\n",
       "experiencia                  object\n",
       "dtype: object"
      ]
     },
     "execution_count": 6,
     "metadata": {},
     "output_type": "execute_result"
    }
   ],
   "source": [
    "vac.experiencia = vac.experiencia.apply(cleanStr)\n",
    "\n",
    "vac.sueldo_maximo = vac.sueldo_maximo.str.replace('$','').str.replace(',','')\n",
    "vac.sueldo_maximo = vac.sueldo_maximo.apply(firstFloat)\n",
    "#vac.sueldo_maximo =vac.sueldo_maximo[vac.sueldo_maximo.apply(isfloat)==False]=np.nan\n",
    "vac.sueldo_maximo = vac.sueldo_maximo.astype(float)\n",
    "\n",
    "vac.sueldo_minimo = vac.sueldo_minimo.str.replace('$','').str.replace(',','').str.replace('|','')\n",
    "vac.sueldo_minimo = vac.sueldo_minimo.apply(firstFloat)\n",
    "vac.sueldo_minimo = vac.sueldo_minimo.dropna().astype(float)\n",
    "\n",
    "#vac.edad_minima = vac.edad_minima.str.replace('$','').str.replace(',','')\n",
    "vac.edad_minima = vac.edad_minima.dropna().astype(int)\n",
    "vac.edad_maxima = vac.edad_maxima.astype(int)\n",
    "\n",
    "vac.fecha_registro = pd.to_datetime(vac.fecha_registro)\n",
    "\n",
    "vac.dtypes"
   ]
  },
  {
   "cell_type": "markdown",
   "metadata": {},
   "source": [
    "<h2>Mejor sueldo</h2>"
   ]
  },
  {
   "cell_type": "code",
   "execution_count": 7,
   "metadata": {
    "collapsed": false
   },
   "outputs": [
    {
     "data": {
      "text/plain": [
       "carrera\n",
       "Licenciatura en Agronomía                                36500.000000\n",
       "Licenciatura en Ciencias de la Comunicación              24625.000000\n",
       "Ingeniería Electrónica                                   16500.000000\n",
       "Ingeniería en Computación                                15685.789474\n",
       "Ingeniería Ambiental                                     13000.000000\n",
       "Ingeniería Biomédica                                     12000.000000\n",
       "Licenciatura en Economía                                 12000.000000\n",
       "Licenciatura en Diseño Industrial                        12000.000000\n",
       "Licenciatura en Tecnologías y Sistemas de Información    10500.000000\n",
       "Licenciatura en Arquitectura                             10000.000000\n",
       "Ingeniería de los Alimentos                               9833.333333\n",
       "Licenciatura en Diseño de la Comunicación Gráfica         9500.000000\n",
       "Ingeniería Industrial                                     9300.000000\n",
       "Licenciatura en Sociología                                9000.000000\n",
       "Ingeniería Bioquímica Industrial                          8000.000000\n",
       "Ingeniería Eléctrica                                      7500.000000\n",
       "Licenciatura en Administración                            7480.208333\n",
       "Licenciatura en Psicología                                6712.500000\n",
       "Otra Carrera Afin                                         6500.000000\n",
       "Ingeniería Química                                        6449.000000\n",
       "Licenciatura en Derecho                                   6000.000000\n",
       "Licenciatura en Diseño                                    6000.000000\n",
       "Licenciatura en Computación                               5500.000000\n",
       "Licenciatura en Geografía Humana                             2.000000\n",
       "Name: sueldo_maximo, dtype: float64"
      ]
     },
     "execution_count": 7,
     "metadata": {},
     "output_type": "execute_result"
    }
   ],
   "source": [
    "vac.groupby('carrera')['sueldo_maximo'].mean().sort_values(ascending=False)"
   ]
  },
  {
   "cell_type": "code",
   "execution_count": null,
   "metadata": {
    "collapsed": false
   },
   "outputs": [],
   "source": [
    "vac.groupby('carrera')['sueldo_minimo'].mean().sort_values(ascending=False)"
   ]
  },
  {
   "cell_type": "code",
   "execution_count": null,
   "metadata": {
    "collapsed": false
   },
   "outputs": [],
   "source": [
    "tab = pd.concat([vac.carrera,(vac.sueldo_maximo+vac.sueldo_minimo)/2],axis=1).rename(columns={0:'sueldo'})\n",
    "tab.groupby('carrera')['sueldo'].mean().sort_values(ascending=False)"
   ]
  },
  {
   "cell_type": "markdown",
   "metadata": {},
   "source": [
    "<h2>Oportunidades de trabajo</h2>"
   ]
  },
  {
   "cell_type": "code",
   "execution_count": null,
   "metadata": {
    "collapsed": false
   },
   "outputs": [],
   "source": [
    "vac.groupby('carrera').size().sort_values(ascending=False)"
   ]
  },
  {
   "cell_type": "markdown",
   "metadata": {},
   "source": [
    "<h2>Oportunidades de trabajo dependiendo el sexo</h2>"
   ]
  },
  {
   "cell_type": "code",
   "execution_count": null,
   "metadata": {
    "collapsed": false
   },
   "outputs": [],
   "source": [
    "vac.groupby('sexo').size().sort_values(ascending=False)"
   ]
  },
  {
   "cell_type": "code",
   "execution_count": 42,
   "metadata": {
    "collapsed": false
   },
   "outputs": [
    {
     "data": {
      "text/plain": [
       "'The , ,quick brown fox'"
      ]
     },
     "execution_count": 42,
     "metadata": {},
     "output_type": "execute_result"
    }
   ],
   "source": [
    "re.sub(' +',' ','The   ,  ,quick brown    fox')"
   ]
  },
  {
   "cell_type": "markdown",
   "metadata": {
    "collapsed": false
   },
   "source": [
    "<h1>Graficas</h1>"
   ]
  },
  {
   "cell_type": "code",
   "execution_count": null,
   "metadata": {
    "collapsed": false
   },
   "outputs": [],
   "source": [
    "import matplotlib.pyplot as plt\n",
    "%matplotlib inline\n",
    "#http://matplotlib.org/examples/color/named_colors.html"
   ]
  },
  {
   "cell_type": "code",
   "execution_count": null,
   "metadata": {
    "collapsed": false
   },
   "outputs": [],
   "source": [
    "oport = vac.groupby('carrera').size().sort_values(ascending=False)\n",
    "licNames = {x:x.replace('en ','').replace('Licenciatura','Lic').replace('Ingeniería','Ing') for x in oport.keys() }\n",
    "oport = oport.rename(licNames)"
   ]
  },
  {
   "cell_type": "code",
   "execution_count": null,
   "metadata": {
    "collapsed": false
   },
   "outputs": [],
   "source": []
  },
  {
   "cell_type": "code",
   "execution_count": null,
   "metadata": {
    "collapsed": false
   },
   "outputs": [],
   "source": [
    "mostRepeat = oport.value_counts().sort_values(ascending=False).keys()[0]\n",
    "mostRepeatKeys = oport[oport == mostRepeat].keys()\n",
    "licVal = oport[oport == mostRepeat].sum()\n",
    "oport = oport.drop(oport[oport == mostRepeat].keys())\n",
    "lic = 'otros'#,'.join(mostRepeatKeys)\n",
    "oport = oport.set_value('otros', licVal)"
   ]
  },
  {
   "cell_type": "code",
   "execution_count": null,
   "metadata": {
    "collapsed": false
   },
   "outputs": [],
   "source": [
    "colors = ['red','gold','chartreuse','deepskyblue',\n",
    "'royalblue','darkorchid','maroon','orange',\n",
    "'lawngreen','dodgerblue','darkblue','fuchsia',\n",
    "'crimson','darkred','salmon','peru',\n",
    "'goldenrod','green','aqua','purple',\n",
    "'pink','grey','tomato','yellow','lime','yellowgreen', 'mediumpurple', 'lightskyblue', 'lightcoral']\n",
    "\n",
    "\n",
    "tam = len(oport)\n",
    "labels = tuple(oport.keys())\n",
    "sizes = np.array(oport,dtype=pd.Series)*100/np.sum(np.array(oport,dtype=pd.Series))\n",
    "colors = colors[:tam] \n",
    "explode = tuple(np.zeros(tam,dtype=np.int))    # proportion with which to offset each wedge\n",
    "plt.axis('equal')\n",
    "plt.pie(sizes,              # data\n",
    "        explode=explode,    # offset parameters \n",
    "        labels=labels,      # slice labels\n",
    "        colors=colors,      # array of colours\n",
    "        autopct='%1.1f%%',  # print the values inside the wedges\n",
    "        shadow=True,        # enable shadow\n",
    "        startangle=70       # starting angle\n",
    "        )"
   ]
  },
  {
   "cell_type": "code",
   "execution_count": 8,
   "metadata": {
    "collapsed": false
   },
   "outputs": [
    {
     "data": {
      "text/html": [
       "<div>\n",
       "<table border=\"1\" class=\"dataframe\">\n",
       "  <thead>\n",
       "    <tr style=\"text-align: right;\">\n",
       "      <th></th>\n",
       "      <th>edad_minima</th>\n",
       "      <th>carrera</th>\n",
       "      <th>funcion</th>\n",
       "      <th>tipo_plaza</th>\n",
       "      <th>horario_entrada</th>\n",
       "      <th>rolar_turnos</th>\n",
       "      <th>estado_civil</th>\n",
       "      <th>edad_maxima</th>\n",
       "      <th>radicar_provincia</th>\n",
       "      <th>horario</th>\n",
       "      <th>fecha_registro</th>\n",
       "      <th>puesto</th>\n",
       "      <th>sexo</th>\n",
       "      <th>sueldo_maximo</th>\n",
       "      <th>empresa</th>\n",
       "      <th>sueldo_minimo</th>\n",
       "      <th>horario_salida</th>\n",
       "      <th>experiencia</th>\n",
       "    </tr>\n",
       "  </thead>\n",
       "  <tbody>\n",
       "    <tr>\n",
       "      <th>24360</th>\n",
       "      <td>22</td>\n",
       "      <td>Ingeniería de los Alimentos</td>\n",
       "      <td>Inspección y pruebas de materia prima y produc...</td>\n",
       "      <td>--</td>\n",
       "      <td>08:00</td>\n",
       "      <td>No</td>\n",
       "      <td>Indistinto</td>\n",
       "      <td>30</td>\n",
       "      <td>No</td>\n",
       "      <td>Tiempo Completo</td>\n",
       "      <td>2017-02-28</td>\n",
       "      <td>Analista de Control de Calidad</td>\n",
       "      <td>Indistinto</td>\n",
       "      <td>6500</td>\n",
       "      <td>INGREDITECH S DE RL DE CV</td>\n",
       "      <td>4500</td>\n",
       "      <td>18:00</td>\n",
       "      <td>Vivir cerca del metro Tepalcates. Egresado(a)....</td>\n",
       "    </tr>\n",
       "    <tr>\n",
       "      <th>24455</th>\n",
       "      <td>25</td>\n",
       "      <td>Ingeniería de los Alimentos</td>\n",
       "      <td>Promoción y venta de productos.</td>\n",
       "      <td>Plaza</td>\n",
       "      <td>08:30</td>\n",
       "      <td>No</td>\n",
       "      <td>Indistinto</td>\n",
       "      <td>35</td>\n",
       "      <td>No</td>\n",
       "      <td>Tiempo Completo</td>\n",
       "      <td>2017-02-24</td>\n",
       "      <td>EJECUTIVO DE VENTAS</td>\n",
       "      <td>Masculino</td>\n",
       "      <td>15000</td>\n",
       "      <td>Proyectos y Admon de Rec Hum PVC SC</td>\n",
       "      <td>12000</td>\n",
       "      <td>18:30</td>\n",
       "      <td>GUSTO POR LAS VENTAS, EXCELENTE PRESENTACION, ...</td>\n",
       "    </tr>\n",
       "    <tr>\n",
       "      <th>25350</th>\n",
       "      <td>18</td>\n",
       "      <td>Licenciatura en Agronomía</td>\n",
       "      <td>Reunir una amplia gama de organizaciones públi...</td>\n",
       "      <td>Práctica Profesional</td>\n",
       "      <td></td>\n",
       "      <td>No</td>\n",
       "      <td>Indistinto</td>\n",
       "      <td>60</td>\n",
       "      <td>Si</td>\n",
       "      <td>Tiempo Completo</td>\n",
       "      <td>2017-02-21</td>\n",
       "      <td>Gerente de Hub</td>\n",
       "      <td>Indistinto</td>\n",
       "      <td>36500</td>\n",
       "      <td>Centro Internacional de Mejoramiento de Maiz y...</td>\n",
       "      <td>32500</td>\n",
       "      <td></td>\n",
       "      <td>Actualmente estamos buscando profesionales que...</td>\n",
       "    </tr>\n",
       "    <tr>\n",
       "      <th>25906</th>\n",
       "      <td>24</td>\n",
       "      <td>Licenciatura en Administración</td>\n",
       "      <td>PROSPECCION DE CLIENTES,COLOCACION DE CREDITOS...</td>\n",
       "      <td>Plaza</td>\n",
       "      <td>8AM</td>\n",
       "      <td>No</td>\n",
       "      <td>Indistinto</td>\n",
       "      <td>40</td>\n",
       "      <td>No</td>\n",
       "      <td>Tiempo Completo</td>\n",
       "      <td>2017-02-27</td>\n",
       "      <td>PROMOTOR DE CREDITO</td>\n",
       "      <td>Indistinto</td>\n",
       "      <td>12000</td>\n",
       "      <td>FINANCIERA ACTIVAMOS</td>\n",
       "      <td>7000</td>\n",
       "      <td>6PM</td>\n",
       "      <td>FINANCIERA ACTIVAMOS SE ENCUENTRA REALIZANDO R...</td>\n",
       "    </tr>\n",
       "    <tr>\n",
       "      <th>26149</th>\n",
       "      <td>24</td>\n",
       "      <td>Licenciatura en Economía</td>\n",
       "      <td>PROSPECCION DE CLIENTES,COLOCACION DE CREDITOS...</td>\n",
       "      <td>Plaza</td>\n",
       "      <td>8AM</td>\n",
       "      <td>No</td>\n",
       "      <td>Indistinto</td>\n",
       "      <td>40</td>\n",
       "      <td>No</td>\n",
       "      <td>Tiempo Completo</td>\n",
       "      <td>2017-02-27</td>\n",
       "      <td>ASESOR DE MICRONEGOCIO</td>\n",
       "      <td>Femenino</td>\n",
       "      <td>12000</td>\n",
       "      <td>FINANCIERA ACTIVAMOS</td>\n",
       "      <td>7000</td>\n",
       "      <td>6PM</td>\n",
       "      <td>IMPORTANTE EMPRESA DEL SECTOR MICROFINANZAS SE...</td>\n",
       "    </tr>\n",
       "  </tbody>\n",
       "</table>\n",
       "</div>"
      ],
      "text/plain": [
       "       edad_minima                         carrera  \\\n",
       "24360           22     Ingeniería de los Alimentos   \n",
       "24455           25     Ingeniería de los Alimentos   \n",
       "25350           18       Licenciatura en Agronomía   \n",
       "25906           24  Licenciatura en Administración   \n",
       "26149           24        Licenciatura en Economía   \n",
       "\n",
       "                                                 funcion  \\\n",
       "24360  Inspección y pruebas de materia prima y produc...   \n",
       "24455                    Promoción y venta de productos.   \n",
       "25350  Reunir una amplia gama de organizaciones públi...   \n",
       "25906  PROSPECCION DE CLIENTES,COLOCACION DE CREDITOS...   \n",
       "26149  PROSPECCION DE CLIENTES,COLOCACION DE CREDITOS...   \n",
       "\n",
       "                 tipo_plaza horario_entrada rolar_turnos estado_civil  \\\n",
       "24360                    --           08:00           No   Indistinto   \n",
       "24455                 Plaza           08:30           No   Indistinto   \n",
       "25350  Práctica Profesional                           No   Indistinto   \n",
       "25906                 Plaza             8AM           No   Indistinto   \n",
       "26149                 Plaza             8AM           No   Indistinto   \n",
       "\n",
       "       edad_maxima radicar_provincia          horario fecha_registro  \\\n",
       "24360           30                No  Tiempo Completo     2017-02-28   \n",
       "24455           35                No  Tiempo Completo     2017-02-24   \n",
       "25350           60                Si  Tiempo Completo     2017-02-21   \n",
       "25906           40                No  Tiempo Completo     2017-02-27   \n",
       "26149           40                No  Tiempo Completo     2017-02-27   \n",
       "\n",
       "                               puesto        sexo  sueldo_maximo  \\\n",
       "24360  Analista de Control de Calidad  Indistinto           6500   \n",
       "24455             EJECUTIVO DE VENTAS   Masculino          15000   \n",
       "25350                  Gerente de Hub  Indistinto          36500   \n",
       "25906             PROMOTOR DE CREDITO  Indistinto          12000   \n",
       "26149          ASESOR DE MICRONEGOCIO    Femenino          12000   \n",
       "\n",
       "                                                 empresa  sueldo_minimo  \\\n",
       "24360                          INGREDITECH S DE RL DE CV           4500   \n",
       "24455                Proyectos y Admon de Rec Hum PVC SC          12000   \n",
       "25350  Centro Internacional de Mejoramiento de Maiz y...          32500   \n",
       "25906                               FINANCIERA ACTIVAMOS           7000   \n",
       "26149                               FINANCIERA ACTIVAMOS           7000   \n",
       "\n",
       "      horario_salida                                        experiencia  \n",
       "24360          18:00  Vivir cerca del metro Tepalcates. Egresado(a)....  \n",
       "24455          18:30  GUSTO POR LAS VENTAS, EXCELENTE PRESENTACION, ...  \n",
       "25350                 Actualmente estamos buscando profesionales que...  \n",
       "25906            6PM  FINANCIERA ACTIVAMOS SE ENCUENTRA REALIZANDO R...  \n",
       "26149            6PM  IMPORTANTE EMPRESA DEL SECTOR MICROFINANZAS SE...  "
      ]
     },
     "execution_count": 8,
     "metadata": {},
     "output_type": "execute_result"
    }
   ],
   "source": [
    "vac.head()"
   ]
  },
  {
   "cell_type": "code",
   "execution_count": 60,
   "metadata": {
    "collapsed": false,
    "scrolled": true
   },
   "outputs": [
    {
     "data": {
      "text/plain": [
       "{'': 226,\n",
       " '\"el': 1,\n",
       " '$10000': 1,\n",
       " '-': 3,\n",
       " '0-2': 1,\n",
       " '1': 1,\n",
       " '12:30': 1,\n",
       " '18:00': 1,\n",
       " '2': 1,\n",
       " '25': 1,\n",
       " '3': 1,\n",
       " '35': 1,\n",
       " '4': 1,\n",
       " '6': 1,\n",
       " '7°': 1,\n",
       " '8:00': 1,\n",
       " '90%': 1,\n",
       " '9:30': 1,\n",
       " 'a': 20,\n",
       " 'académica': 2,\n",
       " 'académico': 1,\n",
       " 'acostumbrado': 1,\n",
       " 'actitud': 2,\n",
       " 'actuaría': 1,\n",
       " 'adaptar': 1,\n",
       " 'adelante': 1,\n",
       " 'administración': 4,\n",
       " 'administrador': 1,\n",
       " 'afin': 1,\n",
       " 'afines': 1,\n",
       " 'afín': 1,\n",
       " 'afín': 1,\n",
       " 'ajustar': 1,\n",
       " 'al': 1,\n",
       " 'algoritmos': 3,\n",
       " 'algunos': 1,\n",
       " 'algún': 4,\n",
       " 'alta': 1,\n",
       " 'altamente': 1,\n",
       " 'ambiente': 1,\n",
       " 'ambientes': 1,\n",
       " 'amplio': 1,\n",
       " 'amplios': 1,\n",
       " 'analista': 1,\n",
       " 'analítica': 1,\n",
       " 'análisis': 2,\n",
       " 'android': 4,\n",
       " 'angelica': 1,\n",
       " 'angular': 1,\n",
       " 'angularjs': 1,\n",
       " 'api': 1,\n",
       " 'apis': 1,\n",
       " 'aplicaciones': 4,\n",
       " 'aplicación': 1,\n",
       " 'aprender': 3,\n",
       " 'aspirante': 1,\n",
       " 'at': 1,\n",
       " 'atención': 1,\n",
       " 'autodidactas': 1,\n",
       " 'autolayout': 1,\n",
       " 'avanzado': 1,\n",
       " 'avanzados': 1,\n",
       " 'aws': 2,\n",
       " 'año': 1,\n",
       " 'años': 3,\n",
       " 'área': 2,\n",
       " 'back-end': 1,\n",
       " 'backend:': 1,\n",
       " 'bajo': 3,\n",
       " 'base': 2,\n",
       " 'bases': 8,\n",
       " 'bash': 1,\n",
       " 'basic': 3,\n",
       " 'be': 1,\n",
       " 'benito': 1,\n",
       " 'big': 1,\n",
       " 'bigdata': 1,\n",
       " 'bono': 1,\n",
       " 'bootstrap': 1,\n",
       " 'bpmn': 1,\n",
       " 'brindar': 2,\n",
       " 'bruto': 1,\n",
       " 'buena': 2,\n",
       " 'buenas': 1,\n",
       " 'build': 1,\n",
       " 'buisiness': 1,\n",
       " 'buscamos': 2,\n",
       " 'buscando:': 1,\n",
       " 'básico': 1,\n",
       " 'búsqueda': 1,\n",
       " 'c': 3,\n",
       " 'c#': 3,\n",
       " 'c++': 1,\n",
       " 'candidato': 1,\n",
       " 'candidato:': 3,\n",
       " 'capaces': 2,\n",
       " 'capacidad': 5,\n",
       " 'caractericen': 1,\n",
       " 'carrera': 2,\n",
       " 'carreras': 1,\n",
       " 'ciencias': 3,\n",
       " 'científico': 2,\n",
       " 'cliente': 1,\n",
       " 'clientes': 1,\n",
       " 'cloud': 1,\n",
       " 'colaboración': 1,\n",
       " 'colaborador': 1,\n",
       " 'colaborativo': 1,\n",
       " 'comandos': 3,\n",
       " 'command': 1,\n",
       " 'communication': 3,\n",
       " 'como': 4,\n",
       " 'competencia': 4,\n",
       " 'componentes': 1,\n",
       " 'comprender': 3,\n",
       " 'computacionales': 1,\n",
       " 'computación': 2,\n",
       " 'computación': 4,\n",
       " 'comunicación': 5,\n",
       " 'con': 33,\n",
       " 'con:': 2,\n",
       " 'conexiones': 2,\n",
       " 'conocimento': 1,\n",
       " 'conocimiento': 5,\n",
       " 'conocimientos': 13,\n",
       " 'conocimientos:': 2,\n",
       " 'consiste': 1,\n",
       " 'consultas': 1,\n",
       " 'consultoría': 1,\n",
       " 'consumiendo': 1,\n",
       " 'control': 6,\n",
       " 'corto': 1,\n",
       " 'crear': 1,\n",
       " 'creatividad': 1,\n",
       " 'criterio': 1,\n",
       " 'crítico': 1,\n",
       " 'css': 2,\n",
       " 'css3': 2,\n",
       " 'cual': 1,\n",
       " 'cuantitativa:': 1,\n",
       " 'cubrir': 1,\n",
       " 'cuentas': 2,\n",
       " 'cuidado': 1,\n",
       " 'cumple': 1,\n",
       " 'cumplir': 2,\n",
       " 'cálculo': 1,\n",
       " 'cómodo': 3,\n",
       " 'd3': 1,\n",
       " 'data': 1,\n",
       " 'data:': 1,\n",
       " 'datos': 7,\n",
       " 'datos:': 1,\n",
       " 'de': 130,\n",
       " 'deberá': 1,\n",
       " 'debes': 2,\n",
       " 'del': 4,\n",
       " 'deployment': 1,\n",
       " 'desarrollador': 2,\n",
       " 'desarrollo': 4,\n",
       " 'deseable': 1,\n",
       " 'deseo': 2,\n",
       " 'desired': 1,\n",
       " 'detalle': 1,\n",
       " 'detalles': 1,\n",
       " 'diferentes': 1,\n",
       " 'digitales': 1,\n",
       " 'diseñador': 1,\n",
       " 'diseño': 1,\n",
       " 'disponibilidad': 2,\n",
       " 'dispositivos': 1,\n",
       " 'distintas': 1,\n",
       " 'django': 4,\n",
       " 'docker': 2,\n",
       " 'documentación': 2,\n",
       " 'dominar': 1,\n",
       " 'dominar:': 1,\n",
       " 'dominio': 1,\n",
       " 'día': 2,\n",
       " 'e': 2,\n",
       " 'e-': 1,\n",
       " 'e-business': 1,\n",
       " 'edad:': 1,\n",
       " 'editorial': 1,\n",
       " 'educativos': 1,\n",
       " 'el': 12,\n",
       " 'email': 1,\n",
       " 'ember': 1,\n",
       " 'empleando': 1,\n",
       " 'en': 50,\n",
       " 'en:': 1,\n",
       " 'encargará': 1,\n",
       " 'english': 2,\n",
       " 'entre': 1,\n",
       " 'equipo': 5,\n",
       " 'es': 5,\n",
       " 'escalabilidad': 1,\n",
       " 'escolaridad:': 5,\n",
       " 'especial': 1,\n",
       " 'establecidos': 1,\n",
       " 'estadística': 1,\n",
       " 'estamos': 1,\n",
       " 'este': 1,\n",
       " 'estrada@enroute': 1,\n",
       " 'estrategias': 1,\n",
       " 'estudiantes': 3,\n",
       " 'etc': 7,\n",
       " 'excel': 2,\n",
       " 'excel:': 1,\n",
       " 'excelente': 2,\n",
       " 'excellent': 2,\n",
       " 'experience': 1,\n",
       " 'experiencia': 28,\n",
       " 'experiencia:': 2,\n",
       " 'expresión': 1,\n",
       " 'facebook': 1,\n",
       " 'familiaridad': 7,\n",
       " 'fin': 1,\n",
       " 'física': 1,\n",
       " 'forma': 3,\n",
       " 'formación': 2,\n",
       " 'forms': 1,\n",
       " 'frameworks': 5,\n",
       " 'front-end': 2,\n",
       " 'ftp': 1,\n",
       " 'fuerte': 1,\n",
       " 'fuertes': 2,\n",
       " 'funcionalidades': 1,\n",
       " 'funciones': 1,\n",
       " 'ganas': 1,\n",
       " 'garantizar': 2,\n",
       " 'generales': 1,\n",
       " 'gestores': 1,\n",
       " 'git': 3,\n",
       " 'github': 1,\n",
       " 'good': 1,\n",
       " 'google': 2,\n",
       " 'grado': 1,\n",
       " 'groovy': 1,\n",
       " 'grunt': 1,\n",
       " 'gulp': 1,\n",
       " 'género:': 1,\n",
       " 'haber': 1,\n",
       " 'habilidad': 5,\n",
       " 'habilidades': 2,\n",
       " 'habilidades:': 3,\n",
       " 'hace': 4,\n",
       " 'haciendo': 1,\n",
       " 'hadoop': 2,\n",
       " 'heroku': 1,\n",
       " 'herramientas': 3,\n",
       " 'hojas': 1,\n",
       " 'honesto': 1,\n",
       " 'horario:': 1,\n",
       " 'html': 1,\n",
       " 'html5': 5,\n",
       " 'http': 1,\n",
       " 'ide': 1,\n",
       " 'idioma': 6,\n",
       " 'in': 2,\n",
       " 'independiente': 3,\n",
       " 'indispensable': 1,\n",
       " 'indistinto': 1,\n",
       " 'información:': 1,\n",
       " 'información': 3,\n",
       " 'informática': 1,\n",
       " 'ing': 2,\n",
       " 'ingeniería': 3,\n",
       " 'ingeniería': 7,\n",
       " 'inglés': 1,\n",
       " 'inglés': 6,\n",
       " 'inglés:': 3,\n",
       " 'iniciativa': 2,\n",
       " 'inmediata': 1,\n",
       " 'inmediata!!': 1,\n",
       " 'innovación': 2,\n",
       " 'instrucciones': 1,\n",
       " 'intelectual': 1,\n",
       " 'interacción': 1,\n",
       " 'interfaces': 1,\n",
       " 'intermedio': 4,\n",
       " 'interés': 1,\n",
       " 'investigación': 2,\n",
       " 'inútil': 1,\n",
       " 'ios': 3,\n",
       " 'is': 1,\n",
       " 'java': 5,\n",
       " 'javascript': 6,\n",
       " 'jquery': 1,\n",
       " 'json': 2,\n",
       " 'juárez': 1,\n",
       " 'knowledge': 1,\n",
       " 'kornshell': 1,\n",
       " 'l': 1,\n",
       " 'la': 19,\n",
       " 'languages': 1,\n",
       " 'languages:': 1,\n",
       " 'las': 1,\n",
       " 'latex': 1,\n",
       " 'learning': 2,\n",
       " 'lenguaje': 3,\n",
       " 'lenguajes': 2,\n",
       " 'lenguajes:': 1,\n",
       " 'levantamiento': 1,\n",
       " 'ley': 1,\n",
       " 'librerías': 3,\n",
       " 'lic': 3,\n",
       " 'like': 1,\n",
       " 'line': 1,\n",
       " 'linux': 3,\n",
       " 'lms': 1,\n",
       " 'lo': 5,\n",
       " 'lodash': 1,\n",
       " 'los': 8,\n",
       " 'lunes': 1,\n",
       " 'línea': 3,\n",
       " 'machine': 2,\n",
       " 'manejo': 2,\n",
       " 'maps': 2,\n",
       " 'marketing': 1,\n",
       " 'markup': 1,\n",
       " 'matemáticas': 1,\n",
       " 'matlab': 1,\n",
       " 'más': 1,\n",
       " 'mejor': 4,\n",
       " 'mensual': 1,\n",
       " 'metodologías': 2,\n",
       " 'mexicana': 1,\n",
       " 'minería': 2,\n",
       " 'modelo': 2,\n",
       " 'modernos': 1,\n",
       " 'mongodb': 1,\n",
       " 'monterrey': 1,\n",
       " 'more': 1,\n",
       " 'most': 1,\n",
       " 'mvc': 2,\n",
       " 'mysql': 1,\n",
       " 'métodos': 1,\n",
       " 'mínimo': 1,\n",
       " 'móviles': 1,\n",
       " 'n': 1,\n",
       " 'necesitamos': 1,\n",
       " 'necesitará': 1,\n",
       " 'net': 1,\n",
       " 'no': 1,\n",
       " 'nosql': 1,\n",
       " 'nube': 1,\n",
       " 'nuevas': 2,\n",
       " 'o': 10,\n",
       " 'objetive': 1,\n",
       " 'objetivec': 1,\n",
       " 'objetivos': 1,\n",
       " 'of': 2,\n",
       " 'office': 1,\n",
       " 'ofrece': 1,\n",
       " 'ofrecemos:': 1,\n",
       " 'on': 3,\n",
       " 'one': 1,\n",
       " 'operación': 1,\n",
       " 'operativo': 1,\n",
       " 'or': 1,\n",
       " 'oracle': 4,\n",
       " 'oral': 1,\n",
       " 'ordenado': 1,\n",
       " 'organizado': 2,\n",
       " 'orientada': 1,\n",
       " 'orientado': 1,\n",
       " 'ortografía': 2,\n",
       " 'otros': 1,\n",
       " 'paginas': 1,\n",
       " 'para': 11,\n",
       " 'parsing': 1,\n",
       " 'participado': 1,\n",
       " 'partir': 3,\n",
       " 'penúltimo': 1,\n",
       " 'perfil': 1,\n",
       " 'personal': 3,\n",
       " 'pl': 1,\n",
       " 'pl-sql': 1,\n",
       " 'plataformas': 1,\n",
       " 'plazo': 1,\n",
       " 'please': 1,\n",
       " 'plus': 3,\n",
       " 'point': 1,\n",
       " 'por': 3,\n",
       " 'position': 1,\n",
       " 'postgresql': 1,\n",
       " 'postularse': 1,\n",
       " 'power': 1,\n",
       " 'prácticas': 1,\n",
       " 'preferentemente': 3,\n",
       " 'presentación': 2,\n",
       " 'presión': 3,\n",
       " 'prestaciones': 1,\n",
       " 'principales:': 1,\n",
       " 'proactiva': 1,\n",
       " 'proactividad': 2,\n",
       " 'problemas': 1,\n",
       " 'procedimientos': 1,\n",
       " 'procesos': 2,\n",
       " 'profesionales': 1,\n",
       " 'profesionista': 1,\n",
       " 'programa': 1,\n",
       " 'programación:': 2,\n",
       " 'programación': 12,\n",
       " 'programando': 3,\n",
       " 'programming': 1,\n",
       " 'programming:': 1,\n",
       " 'propositivos': 1,\n",
       " 'protocols': 1,\n",
       " 'proyectos': 1,\n",
       " 'puesto': 1,\n",
       " 'puntos': 2,\n",
       " 'puntualidad': 1,\n",
       " 'python': 5,\n",
       " 'páginas': 1,\n",
       " 'que': 10,\n",
       " 'r': 2,\n",
       " 'rails': 3,\n",
       " 'react': 1,\n",
       " 'reactjs': 1,\n",
       " 'realizar': 1,\n",
       " 'recibir': 1,\n",
       " 'recursos': 1,\n",
       " 'redacción': 2,\n",
       " 'redes': 1,\n",
       " 'relacionales': 1,\n",
       " 'reports': 1,\n",
       " 'requerimientos': 3,\n",
       " 'requerimos': 1,\n",
       " 'requisitos': 2,\n",
       " 'requisitos:': 1,\n",
       " 'resoluciones': 1,\n",
       " 'responsabilidad': 1,\n",
       " 'responsable': 2,\n",
       " 'rest': 1,\n",
       " 'resultados': 3,\n",
       " 'resume': 1,\n",
       " 'ruby': 5,\n",
       " 'scikit-learn': 1,\n",
       " 'scripting': 4,\n",
       " 'scrum': 1,\n",
       " 'sdk': 1,\n",
       " 'se': 2,\n",
       " 'sectores': 1,\n",
       " 'seguridad': 1,\n",
       " 'semestre': 2,\n",
       " 'send': 1,\n",
       " 'sentirse': 3,\n",
       " 'ser': 1,\n",
       " 'ser:': 1,\n",
       " 'server': 1,\n",
       " 'servicios': 2,\n",
       " 'shell': 3,\n",
       " 'si': 3,\n",
       " 'siguientes': 2,\n",
       " 'siguientes:': 1,\n",
       " 'similar': 1,\n",
       " 'sistema': 4,\n",
       " 'sistemas': 10,\n",
       " 'skills': 4,\n",
       " 'software': 4,\n",
       " 'soluciones': 1,\n",
       " 'solución': 1,\n",
       " 'soporte': 1,\n",
       " 'spark': 2,\n",
       " 'sql': 11,\n",
       " 'ssh': 1,\n",
       " 'start': 1,\n",
       " 'studio': 1,\n",
       " 'sueldo:': 1,\n",
       " 'suite': 2,\n",
       " 'sumaría': 2,\n",
       " 'surge': 1,\n",
       " 'svn': 1,\n",
       " 'swift': 2,\n",
       " 'sysadmin': 1,\n",
       " 'sysadmin-dba': 1,\n",
       " 'sábado': 1,\n",
       " 'sólidas': 1,\n",
       " 'sólidos': 1,\n",
       " 'tablas': 1,\n",
       " 'tdd': 2,\n",
       " 'te': 6,\n",
       " 'tecnologías': 1,\n",
       " 'tecnología': 1,\n",
       " 'tecnologías': 3,\n",
       " 'telecomunicaciones': 1,\n",
       " 'tener': 2,\n",
       " 'tengas': 1,\n",
       " 'this': 1,\n",
       " 'tiene': 1,\n",
       " 'tools': 2,\n",
       " 'trabajando': 7,\n",
       " 'trabajar': 8,\n",
       " 'trabajo': 1,\n",
       " 'trabajo:': 1,\n",
       " 'transformation': 1,\n",
       " 'través': 1,\n",
       " 'triggers': 1,\n",
       " 'twitter': 1,\n",
       " 'técnica': 2,\n",
       " 'técnicas': 1,\n",
       " 'uml': 1,\n",
       " 'un': 12,\n",
       " 'una': 3,\n",
       " 'understanding': 1,\n",
       " 'unity': 2,\n",
       " 'unix': 1,\n",
       " 'uno': 1,\n",
       " 'up': 1,\n",
       " 'using': 1,\n",
       " 'uso': 2,\n",
       " 'verbal': 1,\n",
       " 'versiones': 3,\n",
       " 'versiones:': 3,\n",
       " 'versión': 1,\n",
       " 'via': 1,\n",
       " 'viernes': 1,\n",
       " 'vistas': 1,\n",
       " 'web': 6,\n",
       " 'webpack': 1,\n",
       " 'webservices': 1,\n",
       " 'will': 1,\n",
       " 'word': 1,\n",
       " 'written': 1,\n",
       " 'ws': 2,\n",
       " 'wsdl': 1,\n",
       " 'xcode': 1,\n",
       " 'xhtml': 1,\n",
       " 'xml': 2,\n",
       " 'xyz': 1,\n",
       " 'y': 42,\n",
       " 'years': 1,\n",
       " 'your': 1,\n",
       " 'zona': 1,\n",
       " '¡contratación': 1,\n",
       " 'ágil': 1,\n",
       " 'ágiles': 2,\n",
       " 'área': 1,\n",
       " 'únicamente': 1,\n",
       " '\\uf0a7': 13}"
      ]
     },
     "execution_count": 60,
     "metadata": {},
     "output_type": "execute_result"
    }
   ],
   "source": [
    "experience = vac.experiencia[vac.carrera=='Ingeniería en Computación']\n",
    "bag = {}\n",
    "for exper in experience:\n",
    "    bag = getBagBySpaceExp(bag, exper)\n",
    "bag"
   ]
  },
  {
   "cell_type": "code",
   "execution_count": 59,
   "metadata": {
    "collapsed": false
   },
   "outputs": [],
   "source": [
    "def getBagByComaExp(bag, experience):\n",
    "    words = [cleanWord(x) for x in experience.split(',') ]\n",
    "    for x in words:\n",
    "        bag[x] = bag[x]+1 if x in bag else 1\n",
    "    return bag\n",
    "def getBagBySpaceExp(bag, experience):\n",
    "    experience = uniqueSpace(experience.lower()).replace('.',',').replace(' ',',').replace('/',',').replace('(',',').replace(')',',')\n",
    "    words = [x.strip() for x in experience.split(',') ]\n",
    "    for x in words:\n",
    "        bag[x] = bag[x]+1 if x in bag else 1\n",
    "    return bag\n",
    "def cleanWord(skill):\n",
    "    return skill.strip().replace(',','').replace('.','').lower()\n",
    "def uniqueSpace(phrase):\n",
    "    return re.sub(' +',' ',phrase)"
   ]
  },
  {
   "cell_type": "code",
   "execution_count": null,
   "metadata": {
    "collapsed": false
   },
   "outputs": [],
   "source": [
    "\n"
   ]
  },
  {
   "cell_type": "code",
   "execution_count": null,
   "metadata": {
    "collapsed": false
   },
   "outputs": [],
   "source": []
  },
  {
   "cell_type": "code",
   "execution_count": 56,
   "metadata": {
    "collapsed": false
   },
   "outputs": [
    {
     "data": {
      "text/plain": [
       "'The,quick, ,brown,   , fox'"
      ]
     },
     "execution_count": 56,
     "metadata": {},
     "output_type": "execute_result"
    }
   ],
   "source": [
    "re.sub(',+',',','The,,,quick,, ,,brown,   , fox')"
   ]
  },
  {
   "cell_type": "code",
   "execution_count": 52,
   "metadata": {
    "collapsed": false
   },
   "outputs": [
    {
     "data": {
      "text/plain": [
       "['', '', '', '', '']"
      ]
     },
     "execution_count": 52,
     "metadata": {},
     "output_type": "execute_result"
    }
   ],
   "source": []
  },
  {
   "cell_type": "code",
   "execution_count": null,
   "metadata": {
    "collapsed": false
   },
   "outputs": [],
   "source": []
  },
  {
   "cell_type": "code",
   "execution_count": null,
   "metadata": {
    "collapsed": true
   },
   "outputs": [],
   "source": []
  }
 ],
 "metadata": {
  "kernelspec": {
   "display_name": "Python 3",
   "language": "python",
   "name": "python3"
  },
  "language_info": {
   "codemirror_mode": {
    "name": "ipython",
    "version": 3
   },
   "file_extension": ".py",
   "mimetype": "text/x-python",
   "name": "python",
   "nbconvert_exporter": "python",
   "pygments_lexer": "ipython3",
   "version": "3.4.3"
  }
 },
 "nbformat": 4,
 "nbformat_minor": 0
}
