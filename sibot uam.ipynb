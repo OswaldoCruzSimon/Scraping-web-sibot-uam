{
 "cells": [
  {
   "cell_type": "code",
   "execution_count": null,
   "metadata": {
    "collapsed": false
   },
   "outputs": [],
   "source": [
    "import urllib, re, json\n",
    "from urllib.parse import urlparse\n",
    "import urllib.request\n",
    "import pandas as pd\n",
    "import numpy as np\n",
    "\n",
    "#from pyquery import PyQuery\n",
    "from bs4 import BeautifulSoup\n",
    "try:\n",
    "    from http.cookiejar import CookieJar\n",
    "except ImportError:\n",
    "    from cookielib import CookieJar"
   ]
  },
  {
   "cell_type": "markdown",
   "metadata": {},
   "source": [
    "<h6>Web Scraping con python 3</h6>"
   ]
  },
  {
   "cell_type": "code",
   "execution_count": null,
   "metadata": {
    "collapsed": false
   },
   "outputs": [],
   "source": [
    "login_param = {'txtUsuario':'2123065423',\n",
    "         'txtContrasena':'Oswaldo948',\n",
    "         'btnAccesar':'Ingresar'}\n",
    "cj = CookieJar()\n",
    "opener = urllib.request.build_opener(urllib.request.HTTPCookieProcessor(cj))\n",
    "resp1 = opener.open('https://www.bolsadetrabajo.uam.mx/sesion.php', urllib.parse.urlencode(login_param).encode(\"utf-8\"))"
   ]
  },
  {
   "cell_type": "code",
   "execution_count": null,
   "metadata": {
    "collapsed": false
   },
   "outputs": [],
   "source": [
    "page_param = {'txtClave':'Oswaldo948',\n",
    "             'txtUsuario':'2123065423',\n",
    "             'x':'79',\n",
    "             'y':'24'}\n",
    "resp2 = opener.open('https://www.bolsadetrabajo.uam.mx/srcBuscaEmp.php',urllib.parse.urlencode(page_param).encode(\"utf-8\"))\n",
    "html_text = resp2.read()"
   ]
  },
  {
   "cell_type": "markdown",
   "metadata": {},
   "source": [
    "<h4>Funciones</h4>"
   ]
  },
  {
   "cell_type": "code",
   "execution_count": null,
   "metadata": {
    "collapsed": false
   },
   "outputs": [],
   "source": [
    "def cleanStr(string):\n",
    "    return string.replace('\\t',' ').strip(' \\t\\n\\r').replace('\\n',' ').replace('\\r',' ').replace('•',' ')\n",
    "def quitarLatin(string):\n",
    "    string.replace('á','a').replace('é','e').replace('í','i').replace('ó','o').replace('ú','u').replace('ñ','n')\n",
    "def isfloat(x):\n",
    "    return re.match(\"^\\d+(\\.\\d+)?\", x) is not None"
   ]
  },
  {
   "cell_type": "markdown",
   "metadata": {},
   "source": [
    "<h3>Carga de datos</h3>"
   ]
  },
  {
   "cell_type": "code",
   "execution_count": null,
   "metadata": {
    "collapsed": false
   },
   "outputs": [],
   "source": [
    "with open('vacantes.json') as f:    \n",
    "    data = json.load(f)\n",
    "#vac = pd.DataFrame.from_dict(data, orient='columns')\n",
    "vac = pd.DataFrame.from_dict(data, orient='index')"
   ]
  },
  {
   "cell_type": "markdown",
   "metadata": {},
   "source": [
    "<h3>Renombrar columnas</h3>"
   ]
  },
  {
   "cell_type": "code",
   "execution_count": null,
   "metadata": {
    "collapsed": false
   },
   "outputs": [],
   "source": [
    "vac.columns = vac.columns.str.lower().str.strip().str.replace(' ','_')\n",
    "vac.columns = vac.columns.str.replace('á','a').str.replace('é','e').str.replace('í','i').str.replace('ó','o').str.replace('ú','u').str.replace('ñ','n')\n",
    "vac.rename(columns={'disponibilidad_para_radicar_en_provincia': 'radicar_provincia', \n",
    "                    'disponibilidad_para_rolar_turnos': 'rolar_turnos',\n",
    "                   'fecha_de_registro_de_la_vacante':'fecha_registro',\n",
    "                   'tipo_de_plaza':'tipo_plaza',\n",
    "                    'horario_de_salida':'horario_salida'}, inplace=True)\n",
    "vac.columns"
   ]
  },
  {
   "cell_type": "markdown",
   "metadata": {},
   "source": [
    "<h3>Limpiar datos</h3>"
   ]
  },
  {
   "cell_type": "code",
   "execution_count": null,
   "metadata": {
    "collapsed": false
   },
   "outputs": [],
   "source": [
    "vac.experiencia = vac.experiencia.apply(cleanStr)\n",
    "\n",
    "#vac.sueldo_maximo = vac.sueldo_maximo.str.replace('$','').str.replace(',','')\n",
    "vac.sueldo_maximo = vac.sueldo_maximo.str.replace('$','').str.replace(',','')\n",
    "vac.sueldo_maximo[vac.sueldo_maximo.apply(isfloat)==False]=np.nan\n",
    "vac.sueldo_maximo = vac.sueldo_maximo.astype(float)\n",
    "\n",
    "vac.sueldo_minimo = vac.sueldo_minimo.str.replace('$','').str.replace(',','').str.replace('|','')\n",
    "vac.sueldo_minimo = vac.sueldo_minimo.dropna().astype(float)\n",
    "\n",
    "#vac.edad_minima = vac.edad_minima.str.replace('$','').str.replace(',','')\n",
    "vac.edad_minima = vac.edad_minima.dropna().astype(int)\n",
    "vac.edad_maxima = vac.edad_maxima.astype(int)\n",
    "\n",
    "vac.fecha_registro = pd.to_datetime(vac.fecha_registro)\n",
    "\n",
    "vac.dtypes"
   ]
  },
  {
   "cell_type": "markdown",
   "metadata": {},
   "source": [
    "<h2>Mejor sueldo</h2>"
   ]
  },
  {
   "cell_type": "code",
   "execution_count": null,
   "metadata": {
    "collapsed": false
   },
   "outputs": [],
   "source": [
    "vac.groupby('carrera')['sueldo_maximo'].mean().sort_values(ascending=False)"
   ]
  },
  {
   "cell_type": "code",
   "execution_count": null,
   "metadata": {
    "collapsed": false
   },
   "outputs": [],
   "source": [
    "vac.groupby('carrera')['sueldo_minimo'].mean().sort_values(ascending=False)"
   ]
  },
  {
   "cell_type": "code",
   "execution_count": null,
   "metadata": {
    "collapsed": false
   },
   "outputs": [],
   "source": [
    "tab = pd.concat([vac.carrera,(vac.sueldo_maximo+vac.sueldo_minimo)/2],axis=1).rename(columns={0:'sueldo'})\n",
    "tab.groupby('carrera')['sueldo'].mean().sort_values(ascending=False)"
   ]
  },
  {
   "cell_type": "markdown",
   "metadata": {},
   "source": [
    "<h2>Oportunidades de trabajo</h2>"
   ]
  },
  {
   "cell_type": "code",
   "execution_count": null,
   "metadata": {
    "collapsed": false
   },
   "outputs": [],
   "source": [
    "vac.groupby('carrera').size().sort_values(ascending=False)"
   ]
  },
  {
   "cell_type": "markdown",
   "metadata": {},
   "source": [
    "<h2>Oportunidades de trabajo dependiendo el sexo</h2>"
   ]
  },
  {
   "cell_type": "code",
   "execution_count": null,
   "metadata": {
    "collapsed": false
   },
   "outputs": [],
   "source": [
    "vac.groupby('sexo').size().sort_values(ascending=False)"
   ]
  },
  {
   "cell_type": "code",
   "execution_count": null,
   "metadata": {
    "collapsed": false
   },
   "outputs": [],
   "source": [
    "re.sub(' +',' ','The     quick brown    fox')"
   ]
  },
  {
   "cell_type": "markdown",
   "metadata": {
    "collapsed": false
   },
   "source": [
    "<h1>Graficas</h1>"
   ]
  },
  {
   "cell_type": "code",
   "execution_count": null,
   "metadata": {
    "collapsed": false
   },
   "outputs": [],
   "source": [
    "import matplotlib.pyplot as plt\n",
    "%matplotlib inline"
   ]
  },
  {
   "cell_type": "code",
   "execution_count": null,
   "metadata": {
    "collapsed": false
   },
   "outputs": [],
   "source": [
    "oport = vac.groupby('carrera').size().sort_values(ascending=False)\n",
    "labels = tuple(oport.keys())\n",
    "sizes = np.array(oport,dtype=pd.Series)*100/np.sum(np.array(oport,dtype=pd.Series))\n",
    "colors = ['yellowgreen', 'mediumpurple', 'lightskyblue', 'lightcoral','yellowgreen', 'mediumpurple', 'lightskyblue', 'lightcoral','yellowgreen', 'mediumpurple', 'lightskyblue', 'lightcoral','yellowgreen', 'mediumpurple'] \n",
    "explode = (0, 0, 0, 0, 0, 0, 0, 0,0, 0, 0, 0,0, 0)    # proportion with which to offset each wedge\n",
    "plt.axis('equal')\n",
    "plt.pie(sizes,              # data\n",
    "        explode=explode,    # offset parameters \n",
    "        labels=labels,      # slice labels\n",
    "        colors=colors,      # array of colours\n",
    "        autopct='%1.1f%%',  # print the values inside the wedges\n",
    "        shadow=True,        # enable shadow\n",
    "        startangle=70       # starting angle\n",
    "        )"
   ]
  },
  {
   "cell_type": "code",
   "execution_count": null,
   "metadata": {
    "collapsed": false
   },
   "outputs": [],
   "source": []
  },
  {
   "cell_type": "code",
   "execution_count": null,
   "metadata": {
    "collapsed": false
   },
   "outputs": [],
   "source": []
  },
  {
   "cell_type": "code",
   "execution_count": null,
   "metadata": {
    "collapsed": false
   },
   "outputs": [],
   "source": []
  },
  {
   "cell_type": "code",
   "execution_count": null,
   "metadata": {
    "collapsed": true
   },
   "outputs": [],
   "source": []
  },
  {
   "cell_type": "code",
   "execution_count": null,
   "metadata": {
    "collapsed": false
   },
   "outputs": [],
   "source": []
  },
  {
   "cell_type": "code",
   "execution_count": null,
   "metadata": {
    "collapsed": true
   },
   "outputs": [],
   "source": []
  }
 ],
 "metadata": {
  "kernelspec": {
   "display_name": "Python 3",
   "language": "python",
   "name": "python3"
  },
  "language_info": {
   "codemirror_mode": {
    "name": "ipython",
    "version": 3
   },
   "file_extension": ".py",
   "mimetype": "text/x-python",
   "name": "python",
   "nbconvert_exporter": "python",
   "pygments_lexer": "ipython3",
   "version": "3.4.3"
  }
 },
 "nbformat": 4,
 "nbformat_minor": 0
}
