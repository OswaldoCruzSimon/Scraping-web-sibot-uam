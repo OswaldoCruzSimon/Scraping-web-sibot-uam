{
 "cells": [
  {
   "cell_type": "code",
   "execution_count": null,
   "metadata": {
    "collapsed": false
   },
   "outputs": [],
   "source": [
    "import urllib, re, json\n",
    "from urllib.parse import urlparse\n",
    "import urllib.request\n",
    "import pandas as pd\n",
    "\n",
    "#from pyquery import PyQuery\n",
    "from bs4 import BeautifulSoup\n",
    "try:\n",
    "    from http.cookiejar import CookieJar\n",
    "except ImportError:\n",
    "    from cookielib import CookieJar"
   ]
  },
  {
   "cell_type": "markdown",
   "metadata": {},
   "source": [
    "<h6>Web Scraping con python 3</h6>"
   ]
  },
  {
   "cell_type": "code",
   "execution_count": null,
   "metadata": {
    "collapsed": false
   },
   "outputs": [],
   "source": [
    "login_param = {'txtUsuario':'2123065423',\n",
    "         'txtContrasena':'Oswaldo948',\n",
    "         'btnAccesar':'Ingresar'}\n",
    "cj = CookieJar()\n",
    "opener = urllib.request.build_opener(urllib.request.HTTPCookieProcessor(cj))\n",
    "resp1 = opener.open('https://www.bolsadetrabajo.uam.mx/sesion.php', urllib.parse.urlencode(login_param).encode(\"utf-8\"))"
   ]
  },
  {
   "cell_type": "code",
   "execution_count": null,
   "metadata": {
    "collapsed": false
   },
   "outputs": [],
   "source": [
    "page_param = {'txtClave':'Oswaldo948',\n",
    "             'txtUsuario':'2123065423',\n",
    "             'x':'79',\n",
    "             'y':'24'}\n",
    "resp2 = opener.open('https://www.bolsadetrabajo.uam.mx/srcBuscaEmp.php',urllib.parse.urlencode(page_param).encode(\"utf-8\"))\n",
    "html_text = resp2.read()"
   ]
  },
  {
   "cell_type": "markdown",
   "metadata": {},
   "source": [
    "<h4>Funciones</h4>"
   ]
  },
  {
   "cell_type": "code",
   "execution_count": null,
   "metadata": {
    "collapsed": false
   },
   "outputs": [],
   "source": [
    "def cleanStr(string):\n",
    "    return string.replace('\\t',' ').strip(' \\t\\n\\r').replace('\\n',' ').replace('\\r',' ').replace('•',' ')\n",
    "def quitarLatin(string):\n",
    "    string.replace('á','a').replace('é','e').replace('í','i').replace('ó','o').replace('ú','u').replace('ñ','n')"
   ]
  },
  {
   "cell_type": "markdown",
   "metadata": {},
   "source": [
    "<h3>Carga de datos</h3>"
   ]
  },
  {
   "cell_type": "code",
   "execution_count": null,
   "metadata": {
    "collapsed": false
   },
   "outputs": [],
   "source": [
    "with open('vacantes.json') as f:    \n",
    "    data = json.load(f)"
   ]
  },
  {
   "cell_type": "markdown",
   "metadata": {},
   "source": [
    "<h3>Renombrar columnas</h3>"
   ]
  },
  {
   "cell_type": "code",
   "execution_count": null,
   "metadata": {
    "collapsed": false
   },
   "outputs": [],
   "source": [
    "#vac = pd.DataFrame.from_dict(data, orient='columns')\n",
    "vac = pd.DataFrame.from_dict(data, orient='index')\n",
    "vac.columns = vac.columns.str.lower().str.strip().str.replace(' ','_')\n",
    "vac.columns = vac.columns.str.replace('á','a').str.replace('é','e').str.replace('í','i').str.replace('ó','o').str.replace('ú','u').str.replace('ñ','n')\n",
    "vac.rename(columns={'disponibilidad_para_radicar_en_provincia': 'radicar_provincia', \n",
    "                    'disponibilidad_para_rolar_turnos': 'rolar_turnos',\n",
    "                   'fecha_de_registro_de_la_vacante':'fecha_registro',\n",
    "                   'tipo_de_plaza':'tipo_plaza',\n",
    "                    'horario_de_salida':'horario_salida'}, inplace=True)\n",
    "vac.columns"
   ]
  },
  {
   "cell_type": "markdown",
   "metadata": {},
   "source": [
    "<h3>Limpiar datos</h3>"
   ]
  },
  {
   "cell_type": "code",
   "execution_count": null,
   "metadata": {
    "collapsed": false
   },
   "outputs": [],
   "source": [
    "vac.experiencia = vac.experiencia.apply(cleanStr)\n",
    "\n",
    "vac.sueldo_máximo = vac.sueldo_máximo.str.replace('$','').str.replace(',','')\n",
    "vac.sueldo_máximo = vac.sueldo_máximo.astype(float)\n",
    "\n",
    "vac.dtypes\n",
    "\n"
   ]
  },
  {
   "cell_type": "code",
   "execution_count": null,
   "metadata": {
    "collapsed": false
   },
   "outputs": [],
   "source": [
    "vac.groupby('carrera')['sueldo_máximo'].mean().sort_values(ascending=False)\n"
   ]
  },
  {
   "cell_type": "code",
   "execution_count": null,
   "metadata": {
    "collapsed": false
   },
   "outputs": [],
   "source": [
    "vac.sueldo_máximo.unique()"
   ]
  },
  {
   "cell_type": "code",
   "execution_count": null,
   "metadata": {
    "collapsed": false
   },
   "outputs": [],
   "source": [
    "re.sub(' +',' ','The     quick brown    fox')"
   ]
  },
  {
   "cell_type": "code",
   "execution_count": null,
   "metadata": {
    "collapsed": false
   },
   "outputs": [],
   "source": [
    "vac.head()"
   ]
  },
  {
   "cell_type": "code",
   "execution_count": null,
   "metadata": {
    "collapsed": true
   },
   "outputs": [],
   "source": []
  }
 ],
 "metadata": {
  "kernelspec": {
   "display_name": "Python 3",
   "language": "python",
   "name": "python3"
  },
  "language_info": {
   "codemirror_mode": {
    "name": "ipython",
    "version": 3
   },
   "file_extension": ".py",
   "mimetype": "text/x-python",
   "name": "python",
   "nbconvert_exporter": "python",
   "pygments_lexer": "ipython3",
   "version": "3.4.3"
  }
 },
 "nbformat": 4,
 "nbformat_minor": 0
}
